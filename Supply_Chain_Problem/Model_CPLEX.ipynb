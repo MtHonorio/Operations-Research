{
 "cells": [
  {
   "cell_type": "markdown",
   "metadata": {},
   "source": [
    "## Modelagem da especificação 7"
   ]
  },
  {
   "cell_type": "code",
   "execution_count": 17,
   "metadata": {},
   "outputs": [
    {
     "name": "stdout",
     "output_type": "stream",
     "text": [
      "26\n"
     ]
    }
   ],
   "source": [
    "#Importando bibliotecas necessarias\n",
    "import pylab as pb\n",
    "\n",
    "#Armazenando o preco, custo CC (caminhao) e CF (ferrovia) respectivamente\n",
    "prices_info = pb.loadtxt('projeto2.txt', dtype = float, max_rows = 3)\n",
    "\n",
    "#Armazenando o número de fabricas, centros e cidades\n",
    "instance_info = pb.loadtxt('projeto2.txt', dtype = int, skiprows = 3, max_rows = 3)\n",
    "print(instance_info[2])\n",
    "\n",
    "#Armazenando dados associados a cada fabrica, centro e cidade:\n",
    "dataFab = pb.loadtxt('projeto2.txt', dtype = int, skiprows = 6, max_rows = instance_info[0])\n",
    "\n",
    "dataCenter = pb.loadtxt('projeto2.txt', dtype = int, skiprows = 6 + instance_info[0], max_rows = instance_info[1])\n",
    "\n",
    "dataCity = pb.loadtxt('projeto2.txt', dtype = int, skiprows = 6 + instance_info[0] + instance_info[1], \n",
    "                      max_rows = instance_info[2])\n",
    "\n",
    "\n",
    "skip_rows = sum(instance_info) + len(prices_info) + len(instance_info)\n",
    "\n",
    "#Armazenando os dados dos arcos\n",
    "dataSet = pb.loadtxt('projeto2.txt',dtype = int, skiprows = skip_rows)\n"
   ]
  },
  {
   "cell_type": "code",
   "execution_count": 18,
   "metadata": {},
   "outputs": [],
   "source": [
    "#Criando um dicionário que organiza melhor os dados relacionados aos arcos (distancia):\n",
    "distanceList = {}\n",
    "for i in range(len(dataSet)):\n",
    "    distanceList[(dataSet[i][0], dataSet[i][1])] = dataSet[i][2]"
   ]
  },
  {
   "cell_type": "code",
   "execution_count": 19,
   "metadata": {},
   "outputs": [
    {
     "name": "stdout",
     "output_type": "stream",
     "text": [
      "{(1, 5): 1341, (1, 6): 1432, (1, 7): 1350, (1, 8): 2950, (1, 9): 3242, (1, 10): 1369, (1, 11): 4467, (1, 12): 637, (1, 13): 498, (1, 14): 805, (1, 15): 3707, (1, 16): 1235, (1, 17): 3745, (1, 18): 2385, (1, 19): 3226, (1, 20): 3682, (1, 21): 3720, (1, 22): 2155, (1, 23): 885, (1, 24): 2781, (1, 25): 3433, (1, 26): 3315, (1, 27): 1333, (1, 28): 2746, (1, 29): 3279, (1, 30): 908, (1, 31): 3211, (1, 32): 1786, (1, 33): 1340, (2, 5): 1485, (2, 6): 921, (2, 7): 566, (2, 8): 2182, (2, 9): 2842, (2, 10): 601, (2, 11): 4665, (2, 12): 1012, (2, 13): 476, (2, 14): 773, (2, 15): 3133, (2, 16): 835, (2, 17): 2775, (2, 18): 2805, (2, 19): 2458, (2, 20): 3880, (2, 21): 2952, (2, 22): 1727, (2, 23): 1177, (2, 24): 2979, (2, 25): 2665, (2, 26): 3513, (2, 27): 511, (2, 28): 1982, (2, 29): 2879, (2, 30): 99, (2, 31): 2698, (2, 32): 959, (2, 33): 1484, (3, 5): 2449, (3, 6): 1380, (3, 7): 399, (3, 8): 322, (3, 9): 1984, (3, 10): 1256, (3, 11): 5678, (3, 12): 2537, (3, 13): 2269, (3, 14): 2566, (3, 15): 1273, (3, 16): 1612, (3, 17): 3485, (3, 18): 2844, (3, 19): 598, (3, 20): 4893, (3, 21): 1092, (3, 22): 2389, (3, 23): 2974, (3, 24): 3992, (3, 25): 805, (3, 26): 4526, (3, 27): 1533, (3, 28): 116, (3, 29): 1483, (3, 30): 1846, (3, 31): 1047, (3, 32): 1124, (3, 33): 2450, (4, 5): 2141, (4, 6): 1387, (4, 7): 52, (4, 8): 1909, (4, 9): 609, (4, 10): 2231, (4, 11): 5484, (4, 12): 2343, (4, 13): 2594, (4, 14): 2901, (4, 15): 1401, (4, 16): 1418, (4, 17): 1991, (4, 18): 1134, (4, 19): 2003, (4, 20): 4699, (4, 21): 1938, (4, 22): 624, (4, 23): 3255, (4, 24): 3789, (4, 25): 1904, (4, 26): 4332, (4, 27): 2657, (4, 28): 1930, (4, 29): 636, (4, 30): 2334, (4, 31): 777, (4, 32): 2747, (4, 33): 2140, (5, 8): 2773, (5, 9): 2941, (5, 10): 1594, (5, 11): 3142, (5, 12): 694, (5, 13): 1679, (5, 14): 1986, (5, 15): 3406, (5, 16): 934, (5, 17): 3366, (5, 18): 3046, (5, 19): 3049, (5, 20): 2357, (5, 21): 3543, (5, 22): 1784, (5, 23): 2206, (5, 24): 1456, (5, 25): 3255, (5, 26): 1990, (5, 27): 2017, (5, 28): 2566, (5, 29): 2978, (5, 30): 1614, (5, 31): 2910, (5, 32): 2119, (5, 33): 1, (6, 8): 1650, (6, 9): 2140, (6, 10): 741, (6, 11): 4275, (6, 12): 1134, (6, 13): 1366, (6, 14): 1673, (6, 15): 2200, (6, 16): 209, (6, 17): 2245, (6, 18): 2499, (6, 19): 1930, (6, 20): 3490, (6, 21): 2422, (6, 22): 973, (6, 23): 2027, (6, 24): 2589, (6, 25): 2135, (6, 26): 3123, (6, 27): 1148, (6, 28): 1446, (6, 29): 2157, (6, 30): 1015, (6, 31): 1789, (6, 32): 1239, (6, 33): 1070, (7, 8): 490, (7, 9): 1589, (7, 10): 1650, (7, 11): 5898, (7, 12): 2672, (7, 13): 2663, (7, 14): 2966, (7, 15): 868, (7, 16): 1747, (7, 17): 875, (7, 18): 2085, (7, 19): 723, (7, 20): 5113, (7, 21): 923, (7, 22): 1473, (7, 23): 3368, (7, 24): 4127, (7, 25): 770, (7, 26): 4661, (7, 27): 1927, (7, 28): 513, (7, 29): 1088, (7, 30): 2246, (7, 31): 652, (7, 32): 1519, (7, 33): 2595}\n"
     ]
    }
   ],
   "source": [
    "print(distanceList)"
   ]
  },
  {
   "cell_type": "code",
   "execution_count": 20,
   "metadata": {},
   "outputs": [],
   "source": [
    "#Criando conjunto de fabricas, centros e cidades\n",
    "#Criando ranges para facilitar a manipulacao dos dados\n",
    "fab_r = range(instance_info[0])\n",
    "cent_r = range(instance_info[1])\n",
    "city_r = range(instance_info[2])\n",
    "\n",
    "#Criando conjunto de Fabricas:\n",
    "factories=[]\n",
    "for i in fab_r:\n",
    "    factories.insert(i, dataFab[i][0])\n",
    "\n",
    "#Criando conjunto de centros:\n",
    "centers=[]\n",
    "for i in cent_r:\n",
    "    centers.insert(i, dataCenter[i][0])\n",
    "\n",
    "#Criando conjunto de cidades:\n",
    "cities=[]\n",
    "for i in city_r:\n",
    "    cities.insert(i, dataCity[i][0])\n",
    "    "
   ]
  },
  {
   "cell_type": "code",
   "execution_count": 21,
   "metadata": {},
   "outputs": [],
   "source": [
    "#Criando unioes entre conjunto de fabricas, centros e cidades:\n",
    "#Fabrica uniao centros\n",
    "factoryUcenter = factories + centers \n",
    "\n",
    "#Centros uniao cidades\n",
    "centerUcity = centers + cities"
   ]
  },
  {
   "cell_type": "code",
   "execution_count": 22,
   "metadata": {},
   "outputs": [
    {
     "name": "stdout",
     "output_type": "stream",
     "text": [
      "{1: 2, 2: 3, 3: 4, 4: 3}\n",
      "{5: 50, 6: 70, 7: 65}\n",
      "{1: 2000, 2: 3000, 3: 4500, 4: 3500}\n",
      "{8: 600, 9: 400, 10: 150, 11: 100, 12: 300, 13: 480, 14: 150, 15: 300, 16: 180, 17: 200, 18: 80, 19: 90, 20: 400, 21: 600, 22: 700, 23: 500, 24: 400, 25: 100, 26: 100, 27: 210, 28: 450, 29: 120, 30: 300, 31: 450, 32: 200, 33: 150}\n"
     ]
    }
   ],
   "source": [
    "#Criando conjunto com os custos de producao por tonelada Ci de cada fabrica (utilizando um dicionario):\n",
    "costFactory = {}\n",
    "for i in fab_r:\n",
    "    costFactory[(dataFab[i][0])] = dataFab[i][1]\n",
    "print(costFactory)\n",
    "\n",
    "#Criando conjunto com as taxas anuais a serem pagas por cada centro de distribuicao utilizado:\n",
    "anualTax={}\n",
    "for i in cent_r:\n",
    "    anualTax[(dataCenter[i][0])] = dataCenter[i][1]\n",
    "print(anualTax)\n",
    "\n",
    "#Criando conjunto com as capacidades maximas de producao de cada fabrica (utilizando um dicionario):\n",
    "capacities={}\n",
    "for i in fab_r:\n",
    "    capacities[(dataFab[i][0])] = dataFab[i][2]\n",
    "print(capacities)\n",
    "\n",
    "#Criando conjunto com as demandas de cada cidade (utilizando um dicionario):\n",
    "demands ={}\n",
    "for i in city_r:\n",
    "    demands[(dataCity[i][0])] = dataCity[i][1]\n",
    "print(demands)"
   ]
  },
  {
   "cell_type": "code",
   "execution_count": 23,
   "metadata": {},
   "outputs": [],
   "source": [
    "#Modelagem\n",
    "from docplex.mp.model import Model\n",
    "mdl = Model(\"Problema de especificacao 7\")"
   ]
  },
  {
   "cell_type": "code",
   "execution_count": 24,
   "metadata": {},
   "outputs": [
    {
     "name": "stdout",
     "output_type": "stream",
     "text": [
      "Model: Problema de especificacao 7\n",
      " - number of variables: 194\n",
      "   - binary=0, integer=0, continuous=194\n",
      " - number of constraints: 0\n",
      "   - linear=0\n",
      " - parameters: defaults\n",
      " - objective: none\n",
      " - problem type is: LP\n"
     ]
    }
   ],
   "source": [
    "#Criando variaveis X_i_j\n",
    "x = {(i, j): mdl.continuous_var(name=\"x_{0}_{1}\".format(i, j)) for (i, j) in distanceList}\n",
    "\n",
    "mdl.print_information()"
   ]
  },
  {
   "cell_type": "code",
   "execution_count": 25,
   "metadata": {},
   "outputs": [
    {
     "name": "stdout",
     "output_type": "stream",
     "text": [
      "Model: Problema de especificacao 7\n",
      " - number of variables: 197\n",
      "   - binary=3, integer=0, continuous=194\n",
      " - number of constraints: 0\n",
      "   - linear=0\n",
      " - parameters: defaults\n",
      " - objective: none\n",
      " - problem type is: MILP\n",
      "{5: docplex.mp.Var(type=B,name='y_5'), 6: docplex.mp.Var(type=B,name='y_6'), 7: docplex.mp.Var(type=B,name='y_7')}\n"
     ]
    }
   ],
   "source": [
    "#Criando variaveis Y_k, sendo k o centro de distribuicao:\n",
    "y = {i: mdl.binary_var(name=\"y_{0}\".format(i)) for i in centers}\n",
    "\n",
    "mdl.print_information()\n",
    "print(y)"
   ]
  },
  {
   "cell_type": "code",
   "execution_count": 26,
   "metadata": {},
   "outputs": [],
   "source": [
    "for (i, j) in distanceList:\n",
    "    mdl.add_constraint(x[i, j] >= 0)"
   ]
  },
  {
   "cell_type": "code",
   "execution_count": 27,
   "metadata": {},
   "outputs": [],
   "source": [
    "#Adicionando restricao de conservacao de fluxo:\n",
    "for k in centers:\n",
    "    mdl.add_constraint(mdl.sum(x[k, j] for j in cities) == mdl.sum(x[i, k] for i in factories))\n",
    "        "
   ]
  },
  {
   "cell_type": "code",
   "execution_count": 28,
   "metadata": {},
   "outputs": [],
   "source": [
    "#Adicionando restricao sobre a capacidade produtiva maxima de cada fabrica:\n",
    "for i in factories:\n",
    "    mdl.add_constraint(mdl.sum(x[i, j] for j in centerUcity) <= capacities[i])"
   ]
  },
  {
   "cell_type": "code",
   "execution_count": 29,
   "metadata": {},
   "outputs": [],
   "source": [
    "#Adicionando restricao que limita a quantidade de X_i_j enviada\n",
    "for j in cities:\n",
    "    mdl.add_constraint(mdl.sum(x[i, j] for i in factoryUcenter) <= demands[j])"
   ]
  },
  {
   "cell_type": "code",
   "execution_count": 30,
   "metadata": {},
   "outputs": [],
   "source": [
    "#Adicionando restricao que conserva o fluxo associado a utilizacao ou nao dos centros de distribuicao:\n",
    "for k in centers:\n",
    "    mdl.add_constraint(mdl.sum(x[k, j] for j in cities) <= mdl.sum(demands[j]*y[k]))"
   ]
  },
  {
   "cell_type": "code",
   "execution_count": 31,
   "metadata": {},
   "outputs": [],
   "source": [
    "#Adicionando a funcao objetivo:\n",
    "mdl.maximize(mdl.sum(prices_info[0]* x[i, j] for j in cities for i in factoryUcenter) - \n",
    "             mdl.sum(costFactory[i]*x[i, j] for i in factories for j in centerUcity) - \n",
    "             mdl.sum(anualTax[k]*y[k] for k in centers) - \n",
    "             mdl.sum(prices_info[1] * x[i, j] * distanceList[i, j] for j in cities for i in factoryUcenter) - \n",
    "             mdl.sum(prices_info[2] * x[i, j] * distanceList[i, j] for i in factories for j in centers))"
   ]
  },
  {
   "cell_type": "code",
   "execution_count": 32,
   "metadata": {},
   "outputs": [
    {
     "name": "stdout",
     "output_type": "stream",
     "text": [
      "CPXPARAM_Read_DataCheck                          1\n",
      "Found incumbent of value 0.000000 after 0.01 sec. (0.01 ticks)\n",
      "Tried aggregator 1 time.\n",
      "MIP Presolve eliminated 194 rows and 0 columns.\n",
      "Reduced MIP has 36 rows, 197 columns, and 469 nonzeros.\n",
      "Reduced MIP has 3 binaries, 0 generals, 0 SOSs, and 0 indicators.\n",
      "Presolve time = 0.03 sec. (0.22 ticks)\n",
      "Probing time = 0.00 sec. (0.01 ticks)\n",
      "Tried aggregator 1 time.\n",
      "Reduced MIP has 36 rows, 197 columns, and 469 nonzeros.\n",
      "Reduced MIP has 3 binaries, 0 generals, 0 SOSs, and 0 indicators.\n",
      "Presolve time = 0.03 sec. (0.18 ticks)\n",
      "Probing time = 0.02 sec. (0.01 ticks)\n",
      "MIP emphasis: balance optimality and feasibility.\n",
      "MIP search method: dynamic search.\n",
      "Parallel mode: deterministic, using up to 4 threads.\n",
      "Root relaxation solution time = 0.01 sec. (0.21 ticks)\n",
      "\n",
      "        Nodes                                         Cuts/\n",
      "   Node  Left     Objective  IInf  Best Integer    Best Bound    ItCnt     Gap\n",
      "\n",
      "*     0+    0                            0.0000   1.60262e+07              --- \n",
      "*     0     0      integral     0  3822446.0000  3822446.0000       49    0.00%\n",
      "Elapsed time = 0.20 sec. (0.82 ticks, tree = 0.00 MB, solutions = 2)\n",
      "\n",
      "Root node processing (before b&c):\n",
      "  Real time             =    0.22 sec. (0.83 ticks)\n",
      "Parallel b&c, 4 threads:\n",
      "  Real time             =    0.00 sec. (0.00 ticks)\n",
      "  Sync time (average)   =    0.00 sec.\n",
      "  Wait time (average)   =    0.00 sec.\n",
      "                          ------------\n",
      "Total (root+branch&cut) =    0.22 sec. (0.83 ticks)\n"
     ]
    }
   ],
   "source": [
    "solution = mdl.solve(log_output=True)"
   ]
  },
  {
   "cell_type": "code",
   "execution_count": 33,
   "metadata": {
    "scrolled": false
   },
   "outputs": [
    {
     "name": "stdout",
     "output_type": "stream",
     "text": [
      "solution for: Problema de especificacao 7\n",
      "objective: 3822446.000\n",
      "x_1_5 = 150.000\n",
      "x_1_11 = 100.000\n",
      "x_1_12 = 300.000\n",
      "x_1_20 = 400.000\n",
      "x_1_23 = 500.000\n",
      "x_1_24 = 400.000\n",
      "x_1_26 = 100.000\n",
      "x_2_6 = 150.000\n",
      "x_2_10 = 150.000\n",
      "x_2_13 = 480.000\n",
      "x_2_14 = 150.000\n",
      "x_2_16 = 30.000\n",
      "x_2_27 = 210.000\n",
      "x_2_30 = 300.000\n",
      "x_2_32 = 200.000\n",
      "x_3_8 = 600.000\n",
      "x_3_15 = 300.000\n",
      "x_3_19 = 90.000\n",
      "x_3_21 = 600.000\n",
      "x_3_25 = 100.000\n",
      "x_3_28 = 450.000\n",
      "x_4_7 = 150.000\n",
      "x_4_9 = 400.000\n",
      "x_4_17 = 50.000\n",
      "x_4_18 = 80.000\n",
      "x_4_22 = 700.000\n",
      "x_4_29 = 120.000\n",
      "x_4_31 = 450.000\n",
      "x_5_33 = 150.000\n",
      "x_6_16 = 150.000\n",
      "x_7_17 = 150.000\n",
      "y_5 = 1\n",
      "y_6 = 1\n",
      "y_7 = 1\n"
     ]
    }
   ],
   "source": [
    "solution.display()"
   ]
  },
  {
   "cell_type": "code",
   "execution_count": null,
   "metadata": {},
   "outputs": [],
   "source": []
  },
  {
   "cell_type": "code",
   "execution_count": null,
   "metadata": {},
   "outputs": [],
   "source": []
  },
  {
   "cell_type": "code",
   "execution_count": null,
   "metadata": {},
   "outputs": [],
   "source": []
  }
 ],
 "metadata": {
  "kernelspec": {
   "display_name": "Python 3",
   "language": "python",
   "name": "python3"
  },
  "language_info": {
   "codemirror_mode": {
    "name": "ipython",
    "version": 3
   },
   "file_extension": ".py",
   "mimetype": "text/x-python",
   "name": "python",
   "nbconvert_exporter": "python",
   "pygments_lexer": "ipython3",
   "version": "3.7.6"
  }
 },
 "nbformat": 4,
 "nbformat_minor": 4
}
